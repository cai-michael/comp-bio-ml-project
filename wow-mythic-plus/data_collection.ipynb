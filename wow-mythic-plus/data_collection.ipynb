{
 "cells": [
  {
   "cell_type": "code",
   "execution_count": 19,
   "metadata": {},
   "outputs": [
    {
     "name": "stdout",
     "output_type": "stream",
     "text": [
      "Storing data to CSV\n"
     ]
    }
   ],
   "source": [
    "cosmos = False\n",
    "\n",
    "import asyncio\n",
    "import requests\n",
    "import csv\n",
    "from tqdm.notebook import tqdm_notebook\n",
    "\n",
    "if cosmos:\n",
    "    print(\"Using Cosmos to Store Data\")\n",
    "    from azure.cosmos import CosmosClient, PartitionKey\n",
    "    ENDPOINT = \"\"\n",
    "    KEY = \"\"\n",
    "    DATABASE_NAME = \"mythic_data\"\n",
    "    CONTAINER_NAME = \"runs\"\n",
    "else:\n",
    "    print(\"Storing data to CSV\")"
   ]
  },
  {
   "cell_type": "code",
   "execution_count": 17,
   "metadata": {},
   "outputs": [],
   "source": [
    "# Set up helper functions for retrieving data\n",
    "async def retrieve_data(pages_to_sample, store_to_cosmos=False, cosmos_container=None):\n",
    "    leaderboard_base_uri = \"https://raider.io/api/v1/mythic-plus/runs\"\n",
    "    run_details_base_uri = \"https://raider.io/api/v1/mythic-plus/run-details\"\n",
    "    season = \"season-df-2\"\n",
    "    region = \"world\"\n",
    "    dungeon = \"all\"\n",
    "    affixes = \"all\"\n",
    "\n",
    "    rankings = []\n",
    "    for i in tqdm_notebook(range(pages_to_sample)):\n",
    "        leaderboard_params = {\n",
    "            \"season\": season,\n",
    "            \"region\": region,\n",
    "            \"dungeon\": dungeon,\n",
    "            \"affixes\": affixes,\n",
    "            \"page\": i\n",
    "        }\n",
    "        leaderboard_data = requests.get(leaderboard_base_uri, params=leaderboard_params).json()\n",
    "        for run_summary in leaderboard_data[\"rankings\"]:\n",
    "            run_id = run_summary[\"run\"][\"keystone_run_id\"]\n",
    "            run_params = {\n",
    "                \"id\": run_id,\n",
    "                \"season\": season\n",
    "            }\n",
    "            run_details = requests.get(run_details_base_uri, params=run_params).json()\n",
    "            flattened_data = flatten_data(run_summary, run_details)\n",
    "            if store_to_cosmos:\n",
    "                await cosmos_container.upsert_item(flattened_data)\n",
    "            else:\n",
    "                rankings.append(flattened_data)\n",
    "        # Requests are limited to 300 per minute, so delay each loop slightly.\n",
    "        await asyncio.sleep(1)\n",
    "    return rankings\n",
    "\n",
    "# Flatten Data\n",
    "def flatten_data(run_summary, run_details):\n",
    "    flattened_ranking = {\n",
    "        \"id\": run_summary[\"run\"][\"keystone_run_id\"],\n",
    "        \"score\": run_summary[\"score\"],\n",
    "        \"dungeon_name\": run_summary[\"run\"][\"dungeon\"][\"name\"],\n",
    "        \"dungeon_num_bosses\": run_summary[\"run\"][\"dungeon\"][\"num_bosses\"],\n",
    "        \"mythic_level\": run_summary[\"run\"][\"mythic_level\"],\n",
    "        \"clear_time_ms\": run_summary[\"run\"][\"clear_time_ms\"],\n",
    "        \"keystone_time_ms\": run_summary[\"run\"][\"keystone_time_ms\"],\n",
    "        \"weekly_modifiers\": [i[\"name\"] for i in run_summary[\"run\"][\"weekly_modifiers\"]]\n",
    "    }\n",
    "    \n",
    "    dps_count = 1\n",
    "    for i in run_details[\"roster\"]:\n",
    "        role = i[\"role\"]\n",
    "        class_spec = f\"{i['character']['class']['name']}-{i['character']['spec']['name']}\"\n",
    "        race = i[\"character\"][\"race\"][\"name\"]\n",
    "        level = i[\"character\"][\"level\"]\n",
    "        item_level = i[\"items\"][\"item_level_equipped\"]\n",
    "        score = i[\"ranks\"][\"score\"]\n",
    "        if role == \"tank\":\n",
    "            tank_details = {\n",
    "                \"tank_class\": class_spec,\n",
    "                \"tank_race\": race,\n",
    "                \"tank_level\": level,\n",
    "                \"tank_item_level\": item_level,\n",
    "                \"tank_score\": score,\n",
    "                \"region\": i[\"character\"][\"region\"][\"name\"]\n",
    "            }\n",
    "            flattened_ranking.update(tank_details)\n",
    "        if role == \"healer\":\n",
    "            healer_details = {\n",
    "                \"healer_class\": class_spec,\n",
    "                \"healer_race\": race,\n",
    "                \"healer_level\": level,\n",
    "                \"healer_item_level\": item_level,\n",
    "                \"healer_score\": score\n",
    "            }\n",
    "            flattened_ranking.update(healer_details)\n",
    "        if role == \"dps\":\n",
    "            dps_details = {\n",
    "                f\"dps_{dps_count}_class\": class_spec,\n",
    "                f\"dps_{dps_count}_race\": race,\n",
    "                f\"dps_{dps_count}_level\": level,\n",
    "                f\"dps_{dps_count}_item_level\": item_level,\n",
    "                f\"dps_{dps_count}_score\": score\n",
    "            }\n",
    "            dps_count += 1\n",
    "            flattened_ranking.update(dps_details)\n",
    "    return flattened_ranking\n",
    "\n",
    "def write_data(data, filename):\n",
    "    headers = list(data[0].keys())\n",
    "    with open(filename, 'w', newline='') as csvfile:\n",
    "        writer = csv.DictWriter(csvfile, fieldnames=headers)\n",
    "        writer.writeheader()\n",
    "        writer.writerows(data)"
   ]
  },
  {
   "cell_type": "code",
   "execution_count": null,
   "metadata": {},
   "outputs": [],
   "source": [
    "# Cosmos helpers and setup\n",
    "def create_cosmos_database_and_container(client):\n",
    "    database = client.create_database_if_not_exists(id=DATABASE_NAME)\n",
    "    container = database.create_container_if_not_exists(\n",
    "        id=CONTAINER_NAME, offer_throughput=400\n",
    "    )\n",
    "    print(\"Database:\\t\", database.id)\n",
    "    print(\"Container:\\t\", container.id)\n",
    "    return container\n",
    "\n",
    "def translate_cosmos_to_csv(container, filename):\n",
    "    items = list(container.read_all_items(max_item_count=100))\n",
    "    headers = list(items[0].keys())\n",
    "    print(f\"Found {len(items)} runs to translate to CSV\")\n",
    "    with open(filename, 'w', newline='') as csvfile:\n",
    "        writer = csv.DictWriter(csvfile, fieldnames=headers)\n",
    "        writer.writeheader()\n",
    "        writer.writerows(items)\n",
    "\n",
    "cosmos_client = CosmosClient(url=ENDPOINT, credential=KEY)\n",
    "container = create_cosmos_database_and_container(cosmos_client)"
   ]
  },
  {
   "cell_type": "code",
   "execution_count": 18,
   "metadata": {},
   "outputs": [
    {
     "data": {
      "application/vnd.jupyter.widget-view+json": {
       "model_id": "776ea975b0c545439d8e7130b7c9a521",
       "version_major": 2,
       "version_minor": 0
      },
      "text/plain": [
       "  0%|          | 0/5 [00:00<?, ?it/s]"
      ]
     },
     "metadata": {},
     "output_type": "display_data"
    },
    {
     "name": "stdout",
     "output_type": "stream",
     "text": [
      "delay\n",
      "delay\n",
      "delay\n",
      "delay\n",
      "delay\n"
     ]
    },
    {
     "name": "stderr",
     "output_type": "stream",
     "text": [
      "C:\\Users\\York\\AppData\\Local\\Temp\\ipykernel_8404\\2275872685.py:5: RuntimeWarning: coroutine 'retrieve_data' was never awaited\n",
      "  rankings = await retrieve_data(pages, store_to_cosmos=cosmos)\n",
      "RuntimeWarning: Enable tracemalloc to get the object allocation traceback\n"
     ]
    }
   ],
   "source": [
    "# Retrieve all information about a sample of completed mythic runs.\n",
    "if cosmos:\n",
    "    pages = 3\n",
    "    await retrieve_data(pages, store_to_cosmos=cosmos, cosmos_container=container)\n",
    "else:\n",
    "    pages = 3\n",
    "    cosmos_client = None\n",
    "    rankings = await retrieve_data(pages)\n",
    "    write_data(rankings, filename)"
   ]
  },
  {
   "cell_type": "code",
   "execution_count": null,
   "metadata": {},
   "outputs": [],
   "source": [
    "if cosmos:\n",
    "    filename = f\"data/rankings{pages}.csv\"\n",
    "    translate_cosmos_to_csv(cosmos_client, filename)\n",
    "else:\n",
    "    filename = f\"data/rankings_sample.csv\"\n",
    "    write_data(rankings, filename)"
   ]
  }
 ],
 "metadata": {
  "kernelspec": {
   "display_name": "Python 3",
   "language": "python",
   "name": "python3"
  },
  "language_info": {
   "codemirror_mode": {
    "name": "ipython",
    "version": 3
   },
   "file_extension": ".py",
   "mimetype": "text/x-python",
   "name": "python",
   "nbconvert_exporter": "python",
   "pygments_lexer": "ipython3",
   "version": "3.9.1"
  },
  "orig_nbformat": 4
 },
 "nbformat": 4,
 "nbformat_minor": 2
}
