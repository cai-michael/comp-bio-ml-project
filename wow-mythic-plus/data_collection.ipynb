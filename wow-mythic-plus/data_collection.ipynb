{
 "cells": [
  {
   "cell_type": "code",
   "execution_count": 21,
   "metadata": {},
   "outputs": [],
   "source": [
    "import asyncio\n",
    "import requests\n",
    "import csv"
   ]
  },
  {
   "cell_type": "code",
   "execution_count": 2,
   "metadata": {},
   "outputs": [
    {
     "name": "stderr",
     "output_type": "stream",
     "text": [
      "Exception ignored in: <finalize object at 0x17490e02e00; dead>\n",
      "Traceback (most recent call last):\n",
      "  File \"c:\\Users\\York\\AppData\\Local\\Programs\\Python\\Python39\\lib\\weakref.py\", line 580, in __call__\n",
      "    return info.func(*info.args, **(info.kwargs or {}))\n",
      "  File \"c:\\Users\\York\\AppData\\Local\\Programs\\Python\\Python39\\lib\\site-packages\\urllib3\\connectionpool.py\", line 1130, in _close_pool_connections\n",
      "    conn.close()\n",
      "  File \"c:\\Users\\York\\AppData\\Local\\Programs\\Python\\Python39\\lib\\http\\client.py\", line 935, in close\n",
      "    sock.close()   # close it manually... there may be other refs\n",
      "  File \"c:\\Users\\York\\AppData\\Local\\Programs\\Python\\Python39\\lib\\socket.py\", line 501, in close\n",
      "    self._real_close()\n",
      "  File \"c:\\Users\\York\\AppData\\Local\\Programs\\Python\\Python39\\lib\\ssl.py\", line 1300, in _real_close\n",
      "    super()._real_close()\n",
      "  File \"c:\\Users\\York\\AppData\\Local\\Programs\\Python\\Python39\\lib\\socket.py\", line 495, in _real_close\n",
      "    _ss.close(self)\n",
      "KeyboardInterrupt: \n"
     ]
    }
   ],
   "source": [
    "# Retrieve and save all information about a sample of completed mythic runs.\n",
    "async def retrieve_data(pages_to_sample):\n",
    "    leaderboard_base_uri = \"https://raider.io/api/v1/mythic-plus/runs\"\n",
    "    season = \"season-df-2\"\n",
    "    region = \"world\"\n",
    "    dungeon = \"all\"\n",
    "    affixes = \"all\"\n",
    "\n",
    "    rankings = []\n",
    "    for i in range(pages_to_sample):\n",
    "        # Requests are limited to 300 per minute, so delay each loop slightly.\n",
    "        sleep_task = asyncio.sleep(0.5)\n",
    "        params = {\n",
    "            \"season\": season,\n",
    "            \"region\": region,\n",
    "            \"dungeon\": dungeon,\n",
    "            \"affixes\": affixes,\n",
    "            \"page\": i\n",
    "        }\n",
    "        data = requests.get(leaderboard_base_uri, params=params).json()\n",
    "        flattened_data = [flatten_data(i) for i in data[\"rankings\"]]\n",
    "        rankings.extend(flattened_data)\n",
    "        await sleep_task\n",
    "    return rankings\n",
    "\n",
    "# Flatten Data\n",
    "def flatten_data(ranking):\n",
    "    flattened_ranking = {\n",
    "        \"score\": ranking[\"score\"],\n",
    "        \"dungeon_name\": ranking[\"run\"][\"dungeon\"][\"name\"],\n",
    "        \"dungeon_num_bosses\": ranking[\"run\"][\"dungeon\"][\"num_bosses\"],\n",
    "        \"mythic_level\": ranking[\"run\"][\"mythic_level\"],\n",
    "        \"clear_time_ms\": ranking[\"run\"][\"clear_time_ms\"],\n",
    "        \"keystone_time_ms\": ranking[\"run\"][\"keystone_time_ms\"],\n",
    "        \"weekly_modifiers\": [i[\"name\"] for i in ranking[\"run\"][\"weekly_modifiers\"]]\n",
    "    }\n",
    "    \n",
    "    dps_count = 1\n",
    "    for i in ranking[\"run\"][\"roster\"]:\n",
    "        role = i[\"role\"]\n",
    "        charclass = i[\"character\"][\"class\"][\"name\"]\n",
    "        race = i[\"character\"][\"race\"][\"name\"]\n",
    "        level = i[\"character\"][\"level\"]\n",
    "        spec = i[\"character\"][\"spec\"][\"name\"]\n",
    "        if role == \"tank\":\n",
    "            tank_details = {\n",
    "                \"tank_class\": charclass,\n",
    "                \"tank_race\": race,\n",
    "                \"tank_level\": level,\n",
    "                \"tank_spec\": spec\n",
    "            }\n",
    "            flattened_ranking.update(tank_details)\n",
    "        if role == \"healer\":\n",
    "            healer_details = {\n",
    "                \"healer_class\": charclass,\n",
    "                \"healer_race\": race,\n",
    "                \"healer_level\": level,\n",
    "                \"healer_spec\": spec\n",
    "            }\n",
    "            flattened_ranking.update(healer_details)\n",
    "        if role == \"dps\":\n",
    "            dps_details = {\n",
    "                f\"dps_{dps_count}_class\": charclass,\n",
    "                f\"dps_{dps_count}_race\": race,\n",
    "                f\"dps_{dps_count}_level\": level,\n",
    "                f\"dps_{dps_count}_spec\": spec\n",
    "            }\n",
    "            dps_count += 1\n",
    "            flattened_ranking.update(dps_details)\n",
    "    return flattened_ranking\n",
    "\n",
    "def write_data(data, filename):\n",
    "    headers = list(data[0].keys())\n",
    "    with open(filename, 'w', newline='') as csvfile:\n",
    "        writer = csv.DictWriter(csvfile, fieldnames=headers)\n",
    "        writer.writeheader()\n",
    "        writer.writerows(data)"
   ]
  },
  {
   "cell_type": "code",
   "execution_count": 20,
   "metadata": {},
   "outputs": [
    {
     "name": "stdout",
     "output_type": "stream",
     "text": [
      "You must install pydot (`pip install pydot`) and install graphviz (see instructions at https://graphviz.gitlab.io/download/) for plot_model to work.\n"
     ]
    }
   ],
   "source": [
    "pages = 100\n",
    "filename = f\"data/rankings{pages}.csv\"\n",
    "raw_rankings = retrieve_data(pages)\n",
    "rankings = [flatten_data(i) for i in raw_rankings]\n",
    "write_data(rankings, filename)\n",
    "\n"
   ]
  }
 ],
 "metadata": {
  "kernelspec": {
   "display_name": "Python 3",
   "language": "python",
   "name": "python3"
  },
  "language_info": {
   "codemirror_mode": {
    "name": "ipython",
    "version": 3
   },
   "file_extension": ".py",
   "mimetype": "text/x-python",
   "name": "python",
   "nbconvert_exporter": "python",
   "pygments_lexer": "ipython3",
   "version": "3.9.1"
  },
  "orig_nbformat": 4
 },
 "nbformat": 4,
 "nbformat_minor": 2
}
