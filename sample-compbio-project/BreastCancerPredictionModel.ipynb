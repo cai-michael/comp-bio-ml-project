{
  "cells": [
    {
      "attachments": {},
      "cell_type": "markdown",
      "metadata": {
        "id": "5b3ah6CwoEyd"
      },
      "source": [
        "# Pytorch Example\n",
        "\n",
        "This example is run on Google Colab which is built on Jupyter Notebook.\n",
        "\n",
        "Jupyter Notebook can be a useful tool for quickly writing code, displaying results, and annotating sections of code using markup.\n"
      ]
    },
    {
      "cell_type": "code",
      "execution_count": 1,
      "metadata": {
        "id": "YQPmDXofQ608"
      },
      "outputs": [],
      "source": [
        "from sklearn.metrics import accuracy_score, roc_auc_score, recall_score, precision_score\n",
        "from sklearn.model_selection import train_test_split\n",
        "from scipy.stats import kde\n",
        "from torch.utils.data import Dataset, DataLoader, TensorDataset\n",
        "from torch import Tensor, from_numpy\n",
        "from collections import defaultdict\n",
        "from tqdm.notebook import tqdm_notebook\n",
        "import pandas as pd\n",
        "import numpy as np\n",
        "import matplotlib.pyplot as plt\n",
        "import torch\n",
        "import time\n",
        "import random"
      ]
    },
    {
      "attachments": {},
      "cell_type": "markdown",
      "metadata": {
        "id": "1cbXwqiroxIh"
      },
      "source": [
        "# Adding Custom Python Modules and Github Datasets\n",
        "\n",
        "Google Colab allows us to use either a temporary directory or mount your Google Drive. This can be useful for\n",
        "- Importing and saving training/testing data.\n",
        "- Custom defined library files\n",
        "- Saving and importing trained models.\n",
        "\n",
        "(Normal Jupyter notebooks can also import python library files)"
      ]
    },
    {
      "cell_type": "code",
      "execution_count": 2,
      "metadata": {
        "colab": {
          "base_uri": "https://localhost:8080/"
        },
        "id": "up81rzzxov6A",
        "outputId": "5c15ec6d-f533-4bfe-c535-56b783cc5c19"
      },
      "outputs": [
        {
          "name": "stdout",
          "output_type": "stream",
          "text": [
            "fatal: destination path 'comp-bio-ml-project' already exists and is not an empty directory.\n",
            "You have successfully imported a library!\n"
          ]
        }
      ],
      "source": [
        "# Command to mount your Google Drive\n",
        "\"\"\"\n",
        "from google.colab import drive\n",
        "drive.mount('/content/drive')\n",
        "\"\"\"\n",
        "\n",
        "# Copying a module from Google Drive to our temporary directory to import\n",
        "# Google Drive starts from \"drive/MyDrive\"\n",
        "\"\"\"\n",
        "!cp drive/MyDrive/ProjectFolder/sample_lib.py .\n",
        "import sample_lib\n",
        "\"\"\"\n",
        "\n",
        "# Cloning a Github repository to our temporary directory\n",
        "# Note: The repository has to be public\n",
        "!git clone -b main https://github.com/cai-michael/ml-projects.git\n",
        "!cp ml-projects/sample-compbio-project/data/breast-cancer-wisconsin.csv .\n",
        "!cp ml-projects/sample-compbio-project/sample_lib.py .\n",
        "import sample_lib\n",
        "\n",
        "sample_lib.test_import()"
      ]
    },
    {
      "attachments": {},
      "cell_type": "markdown",
      "metadata": {
        "id": "S3ICk08nBkzW"
      },
      "source": [
        "# GPU/CUDA for Pytorch\n",
        "Pytorch utilizes CUDA in order to help speed up training and parallel processing.\n",
        "\n",
        "We can utilize CPUs to train models but depending on the model size and density training can be very slow. This block of code allows us to check to see if any GPUs are available to us and assign one of them to the device variable. Otherwise we consider our device to be the CPU.\n",
        "\n",
        "To select a GPU in Google Colab:\n",
        "Runtime -> Change runtime type -> Hardware Accelerator -> GPU"
      ]
    },
    {
      "cell_type": "code",
      "execution_count": 3,
      "metadata": {
        "colab": {
          "base_uri": "https://localhost:8080/"
        },
        "id": "M8qXnR8oRmgX",
        "outputId": "3ac28eee-266a-4a20-97b1-525d393b02ad"
      },
      "outputs": [
        {
          "name": "stdout",
          "output_type": "stream",
          "text": [
            "Utilizing CPU\n"
          ]
        }
      ],
      "source": [
        "\"\"\"\n",
        "This cell displays the machine's GPU Information\n",
        "If you are utilizing a machine with multiple GPUs change the device_num until the correct one is displayed.\n",
        "Google Colab should always use device 0.\n",
        "\"\"\"\n",
        "if torch.cuda.is_available():\n",
        "    device_num = 0\n",
        "    print(\"Number of GPUs Available: \", torch.cuda.device_count())\n",
        "    print(\"Name of Selected GPU: \", torch.cuda.get_device_name(device_num))\n",
        "    device = torch.device(f\"cuda:{device_num}\")\n",
        "else:\n",
        "    print(\"Utilizing CPU\")\n",
        "    device = torch.device(\"cpu\")"
      ]
    },
    {
      "attachments": {},
      "cell_type": "markdown",
      "metadata": {
        "id": "NCY3jVZQZKmn"
      },
      "source": [
        "# Data Preprocessing and Loading\n",
        "\n",
        "You should always take a look through the data you're training and testing on. There's multiple things that might be interesting or wrong with it.\n",
        "\n",
        "Examples included here:\n",
        "- Irrelevant Data\n",
        "- Missing Data\n",
        "- Non-Discretized Data"
      ]
    },
    {
      "cell_type": "code",
      "execution_count": 4,
      "metadata": {
        "colab": {
          "base_uri": "https://localhost:8080/",
          "height": 719
        },
        "id": "Ll9YXZjAvwaX",
        "outputId": "9ef9bed1-a367-4e83-9ae2-5ecd23e04ebe"
      },
      "outputs": [
        {
          "name": "stdout",
          "output_type": "stream",
          "text": [
            "Missing Values\n",
            "Clump Thickness                 0\n",
            "Uniformity of Cell Size         0\n",
            "Uniformity of Cell Shape        0\n",
            "Marginal Adhesion               0\n",
            "Single Epithelial Cell Size     0\n",
            "Bare Nuclei                    16\n",
            "Bland Chromatin                 0\n",
            "Normal Nucleoli                 0\n",
            "Mitoses                         0\n",
            "Class                           0\n",
            "dtype: int64 \n",
            "\n",
            "Classes of tumors\n",
            "['benign' 'malignant'] \n",
            "\n"
          ]
        },
        {
          "data": {
            "text/html": [
              "<div>\n",
              "<style scoped>\n",
              "    .dataframe tbody tr th:only-of-type {\n",
              "        vertical-align: middle;\n",
              "    }\n",
              "\n",
              "    .dataframe tbody tr th {\n",
              "        vertical-align: top;\n",
              "    }\n",
              "\n",
              "    .dataframe thead th {\n",
              "        text-align: right;\n",
              "    }\n",
              "</style>\n",
              "<table border=\"1\" class=\"dataframe\">\n",
              "  <thead>\n",
              "    <tr style=\"text-align: right;\">\n",
              "      <th></th>\n",
              "      <th>Clump Thickness</th>\n",
              "      <th>Uniformity of Cell Size</th>\n",
              "      <th>Uniformity of Cell Shape</th>\n",
              "      <th>Marginal Adhesion</th>\n",
              "      <th>Single Epithelial Cell Size</th>\n",
              "      <th>Bare Nuclei</th>\n",
              "      <th>Bland Chromatin</th>\n",
              "      <th>Normal Nucleoli</th>\n",
              "      <th>Mitoses</th>\n",
              "      <th>Class</th>\n",
              "    </tr>\n",
              "  </thead>\n",
              "  <tbody>\n",
              "    <tr>\n",
              "      <th>0</th>\n",
              "      <td>5</td>\n",
              "      <td>1</td>\n",
              "      <td>1</td>\n",
              "      <td>1</td>\n",
              "      <td>2</td>\n",
              "      <td>1.0</td>\n",
              "      <td>3</td>\n",
              "      <td>1</td>\n",
              "      <td>1</td>\n",
              "      <td>0</td>\n",
              "    </tr>\n",
              "    <tr>\n",
              "      <th>1</th>\n",
              "      <td>5</td>\n",
              "      <td>4</td>\n",
              "      <td>4</td>\n",
              "      <td>5</td>\n",
              "      <td>7</td>\n",
              "      <td>10.0</td>\n",
              "      <td>3</td>\n",
              "      <td>2</td>\n",
              "      <td>1</td>\n",
              "      <td>0</td>\n",
              "    </tr>\n",
              "    <tr>\n",
              "      <th>2</th>\n",
              "      <td>3</td>\n",
              "      <td>1</td>\n",
              "      <td>1</td>\n",
              "      <td>1</td>\n",
              "      <td>2</td>\n",
              "      <td>2.0</td>\n",
              "      <td>3</td>\n",
              "      <td>1</td>\n",
              "      <td>1</td>\n",
              "      <td>0</td>\n",
              "    </tr>\n",
              "    <tr>\n",
              "      <th>3</th>\n",
              "      <td>6</td>\n",
              "      <td>8</td>\n",
              "      <td>8</td>\n",
              "      <td>1</td>\n",
              "      <td>3</td>\n",
              "      <td>4.0</td>\n",
              "      <td>3</td>\n",
              "      <td>7</td>\n",
              "      <td>1</td>\n",
              "      <td>0</td>\n",
              "    </tr>\n",
              "    <tr>\n",
              "      <th>4</th>\n",
              "      <td>4</td>\n",
              "      <td>1</td>\n",
              "      <td>1</td>\n",
              "      <td>3</td>\n",
              "      <td>2</td>\n",
              "      <td>1.0</td>\n",
              "      <td>3</td>\n",
              "      <td>1</td>\n",
              "      <td>1</td>\n",
              "      <td>0</td>\n",
              "    </tr>\n",
              "    <tr>\n",
              "      <th>...</th>\n",
              "      <td>...</td>\n",
              "      <td>...</td>\n",
              "      <td>...</td>\n",
              "      <td>...</td>\n",
              "      <td>...</td>\n",
              "      <td>...</td>\n",
              "      <td>...</td>\n",
              "      <td>...</td>\n",
              "      <td>...</td>\n",
              "      <td>...</td>\n",
              "    </tr>\n",
              "    <tr>\n",
              "      <th>694</th>\n",
              "      <td>3</td>\n",
              "      <td>1</td>\n",
              "      <td>1</td>\n",
              "      <td>1</td>\n",
              "      <td>3</td>\n",
              "      <td>2.0</td>\n",
              "      <td>1</td>\n",
              "      <td>1</td>\n",
              "      <td>1</td>\n",
              "      <td>0</td>\n",
              "    </tr>\n",
              "    <tr>\n",
              "      <th>695</th>\n",
              "      <td>2</td>\n",
              "      <td>1</td>\n",
              "      <td>1</td>\n",
              "      <td>1</td>\n",
              "      <td>2</td>\n",
              "      <td>1.0</td>\n",
              "      <td>1</td>\n",
              "      <td>1</td>\n",
              "      <td>1</td>\n",
              "      <td>0</td>\n",
              "    </tr>\n",
              "    <tr>\n",
              "      <th>696</th>\n",
              "      <td>5</td>\n",
              "      <td>10</td>\n",
              "      <td>10</td>\n",
              "      <td>3</td>\n",
              "      <td>7</td>\n",
              "      <td>3.0</td>\n",
              "      <td>8</td>\n",
              "      <td>10</td>\n",
              "      <td>2</td>\n",
              "      <td>1</td>\n",
              "    </tr>\n",
              "    <tr>\n",
              "      <th>697</th>\n",
              "      <td>4</td>\n",
              "      <td>8</td>\n",
              "      <td>6</td>\n",
              "      <td>4</td>\n",
              "      <td>3</td>\n",
              "      <td>4.0</td>\n",
              "      <td>10</td>\n",
              "      <td>6</td>\n",
              "      <td>1</td>\n",
              "      <td>1</td>\n",
              "    </tr>\n",
              "    <tr>\n",
              "      <th>698</th>\n",
              "      <td>4</td>\n",
              "      <td>8</td>\n",
              "      <td>8</td>\n",
              "      <td>5</td>\n",
              "      <td>4</td>\n",
              "      <td>5.0</td>\n",
              "      <td>10</td>\n",
              "      <td>4</td>\n",
              "      <td>1</td>\n",
              "      <td>1</td>\n",
              "    </tr>\n",
              "  </tbody>\n",
              "</table>\n",
              "<p>683 rows × 10 columns</p>\n",
              "</div>"
            ],
            "text/plain": [
              "     Clump Thickness  Uniformity of Cell Size  ...  Mitoses  Class\n",
              "0                  5                        1  ...        1      0\n",
              "1                  5                        4  ...        1      0\n",
              "2                  3                        1  ...        1      0\n",
              "3                  6                        8  ...        1      0\n",
              "4                  4                        1  ...        1      0\n",
              "..               ...                      ...  ...      ...    ...\n",
              "694                3                        1  ...        1      0\n",
              "695                2                        1  ...        1      0\n",
              "696                5                       10  ...        2      1\n",
              "697                4                        8  ...        1      1\n",
              "698                4                        8  ...        1      1\n",
              "\n",
              "[683 rows x 10 columns]"
            ]
          },
          "execution_count": 4,
          "metadata": {},
          "output_type": "execute_result"
        }
      ],
      "source": [
        "# Read the data using Pandas\n",
        "dataset = pd.read_csv('breast-cancer-wisconsin.csv', header=0)\n",
        "\n",
        "# Drop irrelevant data\n",
        "dataset = dataset.drop(columns=['Sample Number'])\n",
        "\n",
        "# Clean NaN values\n",
        "print('Missing Values')\n",
        "print(dataset.isna().sum(), '\\n')\n",
        "dataset = dataset.dropna()\n",
        "\n",
        "# Although we dropped the NaN values it might be better to keep those in.\n",
        "# We may do this a few ways for example using the average value:\n",
        "\"\"\"\n",
        "# dataset[\"Bare Nuclei\"].fillna(dataset[\"Bare Nuclei\"].average())\n",
        "\"\"\"\n",
        "\n",
        "# Discretize Classes\n",
        "print('Classes of tumors')\n",
        "print(dataset['Class'].unique(), '\\n')\n",
        "class_dict = {\n",
        "    \"benign\" : 0,\n",
        "    \"malignant\" : 1,\n",
        "}\n",
        "dataset = dataset.replace({\"Class\": class_dict})\n",
        "\n",
        "dataset"
      ]
    },
    {
      "attachments": {},
      "cell_type": "markdown",
      "metadata": {
        "id": "rVNgqyjr3XpW"
      },
      "source": [
        "# Describe the Data\n",
        "\n",
        "It's good to look at your data distribution to ensure you're getting a good sample of data. Look out for fields that have just a single value or imbalances classes. Various factors can lead to bad models either during training or testing, or possibly down the line when tested on out-of-sample data."
      ]
    },
    {
      "cell_type": "code",
      "execution_count": 5,
      "metadata": {
        "colab": {
          "base_uri": "https://localhost:8080/",
          "height": 879
        },
        "id": "d6Jomffz3X4F",
        "outputId": "0543b88b-cdbc-4cfd-b823-7140322e1ddb"
      },
      "outputs": [
        {
          "data": {
            "image/png": "[encoded data removed]",
            "text/plain": [
              "<Figure size 1080x1080 with 10 Axes>"
            ]
          },
          "metadata": {
            "needs_background": "light"
          },
          "output_type": "display_data"
        }
      ],
      "source": [
        "# Show Data Distribution\n",
        "fig, axs = plt.subplots(nrows=5, ncols=2, figsize=(15, 15))\n",
        "plt.subplots_adjust(hspace=0.5)\n",
        "\n",
        "\n",
        "axs[4][1].hist(dataset['Class'], bins=[-.5,.5,1.5], ec=\"k\") #.plot.bar(title='Class Distribution')\n",
        "axs[4][1].set_xticks((0,1))\n",
        "axs[4][1].set_title('Class Distribution')\n",
        "\n",
        "for i in range(0, 9):\n",
        "  ax = axs[i // 2][i % 2]\n",
        "  column = dataset.columns[i]\n",
        "  density = kde.gaussian_kde(dataset[column])\n",
        "  x = np.linspace(1,10,300)\n",
        "  y = density(x)\n",
        "  ax.plot(x, y)\n",
        "  ax.set_xticks([i for i in range(1, 11)])\n",
        "  ax.fill_between(x, y, color='#539ecd')\n",
        "  ax.set_title(column + ' Distribution')"
      ]
    },
    {
      "attachments": {},
      "cell_type": "markdown",
      "metadata": {
        "id": "KgAsS6Yw9I9o"
      },
      "source": [
        "# Datasets and Dataloaders\n",
        "In PyTorch we define move our data into a Dataset, which allows us to divide up our original Pandas dataframe. At its simplest we can divide it into X and Y values. Where our X value is our features, and our Y values are the values we wish to predict using our X values. But you could possibly divide this up even more, separating out specific inputs to use in different ways in your structure.\n",
        "\n",
        "We've also defined a custom splitting method here, which allows us to automatically split our data into a training set, validation set, and testing set.\n",
        "\n",
        "We can then put each Dataset in a Dataloader, which enables us to iterate through our data in \"minibatches\". Essentially we can look at a few examples at a time instead of one by one."
      ]
    },
    {
      "cell_type": "code",
      "execution_count": 6,
      "metadata": {
        "id": "UscNKVGqRsee"
      },
      "outputs": [],
      "source": [
        "\n",
        "\"\"\"\n",
        "Dataset Definition\n",
        "\"\"\"\n",
        "class ProblemDataset(Dataset):\n",
        "    def __init__(self, df):\n",
        "        # Our X values or features are going to be all columns before the last\n",
        "        self.X = df.values[:, :-1]\n",
        "        # Our y values or classes are going to be the last column only\n",
        "        self.y = df.values[:, -1]\n",
        "        self.X = self.X.astype('float32')\n",
        "        self.y = self.y.astype('float32')\n",
        " \n",
        "    # Returns number of rows in dataset\n",
        "    def __len__(self):\n",
        "        return len(self.X)\n",
        " \n",
        "    # Returns an individual row in the dataset\n",
        "    def __getitem__(self, idx):\n",
        "        return [self.X[idx], self.y[idx]]\n",
        " \n",
        "    # Get indices for training/validation/testing splits.\n",
        "    # This is stratified by the y value, meaning equal distribution of pos/neg\n",
        "    def get_splits(self, n_test=0.2, n_val=0.2):\n",
        "        n_holdout = n_test + n_val\n",
        "        test_val_ratio = n_test / n_holdout\n",
        "        x_train, x_holdout, y_train, y_holdout = train_test_split(self.X, self.y, test_size=n_holdout, stratify=self.y)\n",
        "        x_val, x_test, y_val, y_test = train_test_split(x_holdout, y_holdout, test_size=test_val_ratio, stratify= y_holdout)\n",
        "        train_dataset = TensorDataset(from_numpy(x_train), from_numpy(y_train))\n",
        "        valid_dataset = TensorDataset(from_numpy(x_val), from_numpy(y_val))\n",
        "        test_dataset = TensorDataset(from_numpy(x_test), from_numpy(y_test))\n",
        "        return train_dataset, valid_dataset, test_dataset\n",
        "\n",
        "\"\"\"\n",
        "Creates the dataloaders for the train/validation/test sets\n",
        "\"\"\"\n",
        "def create_dataloaders(df, batch_size=1):\n",
        "    # Load the dataset\n",
        "    dataset = ProblemDataset(df)\n",
        "    # Create the train/validation/testing splits\n",
        "    train, validation, test = dataset.get_splits()\n",
        "    # Prepare the Data Loaders\n",
        "    train_dl = DataLoader(train, batch_size=batch_size, shuffle=True)\n",
        "    validation_dl = DataLoader(validation, batch_size=1024, shuffle=False)\n",
        "    test_dl = DataLoader(test, batch_size=1024, shuffle=False)\n",
        "    return train_dl, validation_dl, test_dl\n"
      ]
    },
    {
      "attachments": {},
      "cell_type": "markdown",
      "metadata": {
        "id": "HQt_9QJe0CV_"
      },
      "source": [
        "# Helper Functions\n",
        "\n",
        "I've created a few helper functions here to help with training and evaluation of models."
      ]
    },
    {
      "cell_type": "code",
      "execution_count": 7,
      "metadata": {
        "id": "3KvVIqw7viWZ"
      },
      "outputs": [],
      "source": [
        "\"\"\"\n",
        "Given a list of actual values versus predictions, calculates several statistics.\n",
        "- Accuracy\n",
        "- AUC (Area Under Curve)\n",
        "- Recall\n",
        "- Precision\n",
        "\"\"\"\n",
        "\n",
        "def evaluate_predictions(y, yhat):\n",
        "    yhat, y = np.vstack(yhat), np.vstack(y)\n",
        "    acc = accuracy_score(y, yhat)\n",
        "    auc = roc_auc_score(y, yhat)\n",
        "    recall = recall_score(y, yhat)\n",
        "    prec = precision_score(y, yhat)\n",
        "    return acc, auc, recall, prec\n",
        "  \n",
        "\n",
        "\"\"\"\n",
        "Given a model's prediction values and their actual targets record its \n",
        "performance in a dictionary.\n",
        "\"\"\"\n",
        "def record_training_performance(actuals, predictions, training_notes, epoch):\n",
        "    acc, auc, recall, prec = evaluate_predictions(actuals, predictions)\n",
        "    training_notes['train_acc'].append((epoch, acc))\n",
        "    training_notes['train_auc'].append((epoch, auc))\n",
        "    training_notes['train_recall'].append((epoch, recall))\n",
        "    training_notes['train_precision'].append((epoch, prec))\n",
        "\n",
        "\"\"\"\n",
        "Given a dataloader, record a model's performance on it.\n",
        "\"\"\"\n",
        "def record_validation_performance(val_dl, model, training_notes, epoch):\n",
        "    acc, auc, recall, prec = evaluate_model(val_dl, model)\n",
        "    training_notes['val_acc'].append((epoch, acc))\n",
        "    training_notes['val_auc'].append((epoch, auc))\n",
        "    training_notes['val_recall'].append((epoch, recall))\n",
        "    training_notes['val_precision'].append((epoch, prec))\n",
        "\n",
        "\"\"\"\n",
        "Trains the model for X epochs.\n",
        "\"\"\"\n",
        "def train(train_dl, val_dl, model, total_epoch, criterion, optimizer):\n",
        "    # Dictionary to keep track of the training statistics\n",
        "    training_notes = defaultdict(list)\n",
        "    for epoch in tqdm_notebook(range(total_epoch)):\n",
        "        # enumerate mini batches\n",
        "        actuals, predictions = list(), list()\n",
        "        for i, (inputs, targets) in enumerate(train_dl):\n",
        "            inputs, targets = inputs.to(device), targets.to(device)\n",
        "            # Clear the Gradients\n",
        "            optimizer.zero_grad()\n",
        "            # Compute the Model Predictions\n",
        "            yhat = model(inputs)\n",
        "            # Calculate Loss\n",
        "            targets = targets.unsqueeze(1)\n",
        "            loss = criterion(yhat, targets)\n",
        "            # Update Model Weights\n",
        "            loss.backward()\n",
        "            optimizer.step()\n",
        "            # Store actual and Predictions for Evaluation\n",
        "            yhat = yhat.cpu().detach().numpy().round()\n",
        "            actual = targets.cpu().numpy()\n",
        "            actual = actual.reshape((len(actual), 1))\n",
        "            predictions.append(yhat)\n",
        "            actuals.append(actual)\n",
        "        record_training_performance(actuals, predictions, training_notes, epoch)\n",
        "        record_validation_performance(val_dl, model, training_notes, epoch)\n",
        "    return training_notes\n",
        " \n",
        "\"\"\"\n",
        "Evaluates the models against another dataset.\n",
        "- eval_dl: Dataset to be used for evaluation\n",
        "- model: Trained model to be evaluated\n",
        "\"\"\"\n",
        "def evaluate_model(eval_dl, model):\n",
        "    actuals, predictions = list(), list()\n",
        "    for i, (inputs, targets) in enumerate(eval_dl):\n",
        "        # Evaluate the model against the given dataset\n",
        "        inputs = inputs.to(device)\n",
        "        targets = targets.to(device)\n",
        "        yhat = model(inputs)\n",
        "        # Store actual and predictions for Evaluation\n",
        "        yhat = yhat.cpu().detach().numpy().round()\n",
        "        actual = targets.cpu().numpy()\n",
        "        actual = actual.reshape((len(actual), 1))\n",
        "        predictions.append(yhat)\n",
        "        actuals.append(actual)\n",
        "    acc, auc, recall, prec = evaluate_predictions(actuals, predictions)\n",
        "    return acc, auc, recall, prec\n",
        "\n",
        "\"\"\"\n",
        "Makes a prediction for one row of data\n",
        "- eval_dl: Single datapoint to make a prediction for.\n",
        "- model: Trained model to be evaluated\n",
        "\"\"\"\n",
        "def predict(x, model):\n",
        "    # Create a tensor from row of data\n",
        "    x = Tensor([x])\n",
        "    # Run model on data\n",
        "    yhat = model(x)\n",
        "    # Retrieve Prediction\n",
        "    yhat = yhat.detach().numpy().round()\n",
        "    return yhat"
      ]
    },
    {
      "attachments": {},
      "cell_type": "markdown",
      "metadata": {
        "id": "vY0CX6LEZPpt"
      },
      "source": [
        "# Model Definition\n",
        "We can now define our PyTorch model. \n",
        "\n",
        "We should define a simple function where we specify our training parameters.\n",
        "\n",
        "Then we can define the structure of our model in another class.\n",
        "\n",
        "More information on the available structures available here.\n",
        "  - https://pytorch.org/docs/stable/nn.html"
      ]
    },
    {
      "cell_type": "code",
      "execution_count": 8,
      "metadata": {
        "id": "4JOAgZNqTk2S"
      },
      "outputs": [],
      "source": [
        "from torch.nn import Linear, ReLU, Sigmoid, Module, BCELoss\n",
        "from torch.optim import Adam\n",
        "\n",
        "# Optimization Definition\n",
        "def train_model(train_dl, validation_dl, model):\n",
        "    # Define Optimization Parameters\n",
        "    criterion = BCELoss()\n",
        "    optimizer = Adam(model.parameters(), lr=0.0001)\n",
        "    epochs = 200\n",
        "    training_notes = train(train_dl, validation_dl, model, epochs, criterion, optimizer)\n",
        "    return training_notes\n",
        "\n",
        "# Model Definition\n",
        "class Net(Module):\n",
        "    # Define the structure here\n",
        "    def __init__(self, n_inputs):\n",
        "        super(Net, self).__init__()\n",
        "        self.hidden = Linear(n_inputs, 5)\n",
        "        self.hidden_activation_function = ReLU()\n",
        "        # Basic Layer\n",
        "        self.transform = Linear(5, 1)\n",
        "        self.activation_function = Sigmoid()\n",
        " \n",
        "    # Define the order for the structure\n",
        "    def forward(self, X):\n",
        "        \"\"\"\n",
        "        The current structure takes an input Tensor of size [1, 20].\n",
        "        It is transformed into a Tensor of size [1, 4] using linear transformations\n",
        "        Then transformed into a Tensor of size [1, 2] using linear transformations\n",
        "        Then transformed into a Tensor of size [1, 1] using the Sigmoid function\n",
        "        \"\"\"\n",
        "        X = self.hidden(X)\n",
        "        X = self.hidden_activation_function(X)\n",
        "\n",
        "        X = self.transform(X)\n",
        "        X = self.activation_function(X)\n",
        "        return X"
      ]
    },
    {
      "attachments": {},
      "cell_type": "markdown",
      "metadata": {
        "id": "DEx0KhcdZTdd"
      },
      "source": [
        "# Main Function\n",
        "\n",
        "This is where we take everything we've built so far and let it run.\n",
        "\n",
        "Libraries like time and tqdm allow us to the see the progress of our training."
      ]
    },
    {
      "cell_type": "code",
      "execution_count": 9,
      "metadata": {
        "colab": {
          "base_uri": "https://localhost:8080/",
          "height": 257,
          "referenced_widgets": [
            "93c4f2434e364c2abeed83acff521acf",
            "c68a871ac9e14cdda6f74d590a0414b1",
            "210d32d3b2824f138b061887895ab0a9",
            "a6189b26594d4ef497ebb98578776abe",
            "e08e18edce7c41e69caec11bc151812b",
            "d411c45bb64046f4be7fb4bc1f97aace",
            "93f4dc5ee1f84eadacb83aa7b64753eb",
            "c1adf09b681243f483c86ee05344a33d",
            "86b7f51a127a4ab2816d813c5ec6be39",
            "d627ae79cfac4fb5a8ad505c3a0bafe3",
            "675193334310408eacd3c86df8f46c33"
          ]
        },
        "id": "EuP9FoI5ZU66",
        "outputId": "4fd74442-7dae-42d4-b25c-dfe351600552"
      },
      "outputs": [
        {
          "name": "stdout",
          "output_type": "stream",
          "text": [
            "Training Data Count:  409\n",
            "Validation Data Count:  137\n",
            "Testing Data Count:  137\n",
            "Starting Model Training...\n"
          ]
        },
        {
          "data": {
            "application/vnd.jupyter.widget-view+json": {
              "model_id": "93c4f2434e364c2abeed83acff521acf",
              "version_major": 2,
              "version_minor": 0
            },
            "text/plain": [
              "  0%|          | 0/200 [00:00<?, ?it/s]"
            ]
          },
          "metadata": {},
          "output_type": "display_data"
        },
        {
          "name": "stdout",
          "output_type": "stream",
          "text": [
            "Finished Training Model\n",
            "Training Time:  00h 00m 47s\n",
            "\n",
            "Model Validation Set Performance Statistics:\n",
            "Test Set Accuracy:\t 0.949\n",
            "Test Set AUC:\t\t 0.937\n",
            "Test Set Recall:\t 0.896\n",
            "Test Set Precision:\t 0.956\n"
          ]
        }
      ],
      "source": [
        "# Define a Training Seed (To make your training reproducible)\n",
        "seed = 598\n",
        "torch.manual_seed(seed)\n",
        "random.seed(seed)\n",
        "np.random.seed(seed)\n",
        "\n",
        "# Prepare the data\n",
        "# Currently network size is passed in based on the inputs\n",
        "model = Net(9)\n",
        "train_dl, validation_dl, test_dl = create_dataloaders(dataset)\n",
        "print(\"Training Data Count: \", len(train_dl.dataset))\n",
        "print(\"Validation Data Count: \", len(validation_dl.dataset))\n",
        "print(\"Testing Data Count: \", len(test_dl.dataset))\n",
        "model.to(device)\n",
        "\n",
        "# Train the model\n",
        "print(\"Starting Model Training...\")\n",
        "start = time.time()\n",
        "training_notes = train_model(train_dl, validation_dl, model)\n",
        "end = time.time()\n",
        "print(\"Finished Training Model\")\n",
        "print('Training Time: ', time.strftime(\"%Hh %Mm %Ss\", time.gmtime(end - start)))\n",
        "\n",
        "# Evaluate the model on validation data\n",
        "val_acc, val_auc, val_recall, val_prec = evaluate_model(validation_dl, model)\n",
        "print('\\nModel Validation Set Performance Statistics:')\n",
        "print('Test Set Accuracy:\\t %.3f' % val_acc)\n",
        "print('Test Set AUC:\\t\\t %.3f' % val_auc)\n",
        "print('Test Set Recall:\\t %.3f' % val_recall)\n",
        "print('Test Set Precision:\\t %.3f' % val_prec)"
      ]
    },
    {
      "attachments": {},
      "cell_type": "markdown",
      "metadata": {
        "id": "cDbZXLacZYm9"
      },
      "source": [
        "#Training Evaluation and Analysis\n",
        "- We can observe how our various performance metrics changed during training.\n",
        "- This can be helpful for determining if our parameters need adjusting.\n",
        "- For example a steady rise in validation AUC that hasn't completely leveled out yet may indicate we need more epochs to fully train the model."
      ]
    },
    {
      "cell_type": "code",
      "execution_count": 10,
      "metadata": {
        "colab": {
          "base_uri": "https://localhost:8080/",
          "height": 729
        },
        "id": "birPIM_sZX2l",
        "outputId": "51b20b9d-d145-4b59-c0ad-1696f3d0c0d8"
      },
      "outputs": [
        {
          "data": {
            "image/png": "[encoded data removed]",
            "text/plain": [
              "<Figure size 1296x720 with 8 Axes>"
            ]
          },
          "metadata": {
            "needs_background": "light"
          },
          "output_type": "display_data"
        }
      ],
      "source": [
        "# Show Recall Precision\n",
        "fig, axs = plt.subplots(nrows=4, ncols=2, figsize=(18, 10))\n",
        "\n",
        "def plot_measure_graph(x_data, y_data, ax, title=\"Generic Title\", color=\"Black\", parameter=\"Generic Measure\"):\n",
        "    ax.plot(x_data, y_data, label=parameter, color=color)\n",
        "    ax.set_title(title, fontsize=15)\n",
        "    ax.set_xlabel('Epoch', fontsize=12)\n",
        "    ax.set_ylabel(parameter, fontsize=12)\n",
        "    ax.grid(b=True, color=\"Turquoise\", alpha=0.2, linestyle=':', linewidth=2)\n",
        "    ax.legend()\n",
        "\n",
        "train_acc_x, train_acc_y = zip(*training_notes['train_acc'])\n",
        "val_acc_x, val_acc_y = zip(*training_notes['val_acc'])\n",
        "train_auc_x, train_auc_y = zip(*training_notes['train_auc'])\n",
        "val_auc_x, val_auc_y = zip(*training_notes['val_auc'])\n",
        "train_recall_x, train_recall_y = zip(*training_notes['train_recall'])\n",
        "val_recall_x, val_recall_y = zip(*training_notes['val_recall'])\n",
        "train_prec_x, train_prec_y = zip(*training_notes['train_precision'])\n",
        "val_prec_x, val_prec_y = zip(*training_notes['val_precision'])\n",
        "\n",
        "plot_measure_graph(train_acc_x, train_acc_y, ax=axs[0][0], title=\"Training Accuracy\", color=\"Gold\", parameter=\"Accuracy\")\n",
        "plot_measure_graph(val_acc_x, val_acc_y, ax=axs[0][1], title=\"Validation Accuracy\", color=\"Maroon\", parameter=\"Accuracy\")\n",
        "plot_measure_graph(train_auc_x, train_auc_y, ax=axs[1][0], title=\"Training AUC\", color=\"Gold\", parameter=\"AUC\")\n",
        "plot_measure_graph(val_auc_x, val_auc_y, ax=axs[1][1], title=\"Validation AUC\", color=\"Maroon\", parameter=\"AUC\")\n",
        "plot_measure_graph(train_recall_x, train_recall_y, ax=axs[2][0], title=\"Training Recall\", color=\"Gold\", parameter=\"Recall\")\n",
        "plot_measure_graph(val_recall_x, val_recall_y, ax=axs[2][1], title=\"Validation Recall\", color=\"Maroon\", parameter=\"Recall\")\n",
        "plot_measure_graph(train_prec_x, train_prec_y, ax=axs[3][0], title=\"Training Precision\", color=\"Gold\", parameter=\"Precision\")\n",
        "plot_measure_graph(val_prec_x, val_prec_y, ax=axs[3][1], title=\"Validation Precision\", color=\"Maroon\", parameter=\"Precision\")\n",
        "fig.tight_layout()\n",
        "plt.show()"
      ]
    },
    {
      "attachments": {},
      "cell_type": "markdown",
      "metadata": {
        "id": "09gfiNo5FLLv"
      },
      "source": [
        "# Final Statistics"
      ]
    },
    {
      "cell_type": "code",
      "execution_count": 11,
      "metadata": {
        "colab": {
          "base_uri": "https://localhost:8080/",
          "height": 399
        },
        "id": "vU2A754JFKdx",
        "outputId": "b43ee558-164d-4136-c95b-729384039ce4"
      },
      "outputs": [
        {
          "name": "stdout",
          "output_type": "stream",
          "text": [
            "\n",
            "Model Test Set Performance Statistics:\n",
            "Test Set Accuracy:\t 0.964\n",
            "Test Set AUC:\t\t 0.962\n",
            "Test Set Recall:\t 0.958\n",
            "Test Set Precision:\t 0.939\n"
          ]
        },
        {
          "data": {
            "image/png": "[encoded data removed]",
            "text/plain": [
              "<Figure size 432x288 with 1 Axes>"
            ]
          },
          "metadata": {
            "needs_background": "light"
          },
          "output_type": "display_data"
        }
      ],
      "source": [
        "# Evaluate the model on testing data we set aside\n",
        "test_acc, test_auc, test_recall, test_prec = evaluate_model(test_dl, model)\n",
        "\n",
        "y = [test_acc, test_auc, test_recall, test_prec]\n",
        "y_percent = [i * 100 for i in y]\n",
        "plt.barh(['Acc', 'AUC', 'Recall', 'Prec'], y_percent)\n",
        "plt.ylabel('Metric')\n",
        "plt.xlabel('Performance (%)')\n",
        "plt.title('Testing Set Metrics')\n",
        "\n",
        "print('\\nModel Test Set Performance Statistics:')\n",
        "print('Test Set Accuracy:\\t %.3f' % test_acc)\n",
        "print('Test Set AUC:\\t\\t %.3f' % test_auc)\n",
        "print('Test Set Recall:\\t %.3f' % test_recall)\n",
        "print('Test Set Precision:\\t %.3f' % test_prec)"
      ]
    }
  ],
  "metadata": {
    "colab": {
      "collapsed_sections": [],
      "name": "BreastCancerPredictionModel.ipynb",
      "provenance": []
    },
    "kernelspec": {
      "display_name": "Python 3",
      "name": "python3"
    },
    "language_info": {
      "name": "python"
    },
    "widgets": {
      "application/vnd.jupyter.widget-state+json": {
        "210d32d3b2824f138b061887895ab0a9": {
          "model_module": "@jupyter-widgets/controls",
          "model_module_version": "1.5.0",
          "model_name": "HTMLModel",
          "state": {
            "_dom_classes": [],
            "_model_module": "@jupyter-widgets/controls",
            "_model_module_version": "1.5.0",
            "_model_name": "HTMLModel",
            "_view_count": null,
            "_view_module": "@jupyter-widgets/controls",
            "_view_module_version": "1.5.0",
            "_view_name": "HTMLView",
            "description": "",
            "description_tooltip": null,
            "layout": "IPY_MODEL_93f4dc5ee1f84eadacb83aa7b64753eb",
            "placeholder": "​",
            "style": "IPY_MODEL_d411c45bb64046f4be7fb4bc1f97aace",
            "value": "100%"
          }
        },
        "675193334310408eacd3c86df8f46c33": {
          "model_module": "@jupyter-widgets/base",
          "model_module_version": "1.2.0",
          "model_name": "LayoutModel",
          "state": {
            "_model_module": "@jupyter-widgets/base",
            "_model_module_version": "1.2.0",
            "_model_name": "LayoutModel",
            "_view_count": null,
            "_view_module": "@jupyter-widgets/base",
            "_view_module_version": "1.2.0",
            "_view_name": "LayoutView",
            "align_content": null,
            "align_items": null,
            "align_self": null,
            "border": null,
            "bottom": null,
            "display": null,
            "flex": null,
            "flex_flow": null,
            "grid_area": null,
            "grid_auto_columns": null,
            "grid_auto_flow": null,
            "grid_auto_rows": null,
            "grid_column": null,
            "grid_gap": null,
            "grid_row": null,
            "grid_template_areas": null,
            "grid_template_columns": null,
            "grid_template_rows": null,
            "height": null,
            "justify_content": null,
            "justify_items": null,
            "left": null,
            "margin": null,
            "max_height": null,
            "max_width": null,
            "min_height": null,
            "min_width": null,
            "object_fit": null,
            "object_position": null,
            "order": null,
            "overflow": null,
            "overflow_x": null,
            "overflow_y": null,
            "padding": null,
            "right": null,
            "top": null,
            "visibility": null,
            "width": null
          }
        },
        "86b7f51a127a4ab2816d813c5ec6be39": {
          "model_module": "@jupyter-widgets/base",
          "model_module_version": "1.2.0",
          "model_name": "LayoutModel",
          "state": {
            "_model_module": "@jupyter-widgets/base",
            "_model_module_version": "1.2.0",
            "_model_name": "LayoutModel",
            "_view_count": null,
            "_view_module": "@jupyter-widgets/base",
            "_view_module_version": "1.2.0",
            "_view_name": "LayoutView",
            "align_content": null,
            "align_items": null,
            "align_self": null,
            "border": null,
            "bottom": null,
            "display": null,
            "flex": null,
            "flex_flow": null,
            "grid_area": null,
            "grid_auto_columns": null,
            "grid_auto_flow": null,
            "grid_auto_rows": null,
            "grid_column": null,
            "grid_gap": null,
            "grid_row": null,
            "grid_template_areas": null,
            "grid_template_columns": null,
            "grid_template_rows": null,
            "height": null,
            "justify_content": null,
            "justify_items": null,
            "left": null,
            "margin": null,
            "max_height": null,
            "max_width": null,
            "min_height": null,
            "min_width": null,
            "object_fit": null,
            "object_position": null,
            "order": null,
            "overflow": null,
            "overflow_x": null,
            "overflow_y": null,
            "padding": null,
            "right": null,
            "top": null,
            "visibility": null,
            "width": null
          }
        },
        "93c4f2434e364c2abeed83acff521acf": {
          "model_module": "@jupyter-widgets/controls",
          "model_module_version": "1.5.0",
          "model_name": "HBoxModel",
          "state": {
            "_dom_classes": [],
            "_model_module": "@jupyter-widgets/controls",
            "_model_module_version": "1.5.0",
            "_model_name": "HBoxModel",
            "_view_count": null,
            "_view_module": "@jupyter-widgets/controls",
            "_view_module_version": "1.5.0",
            "_view_name": "HBoxView",
            "box_style": "",
            "children": [
              "IPY_MODEL_210d32d3b2824f138b061887895ab0a9",
              "IPY_MODEL_a6189b26594d4ef497ebb98578776abe",
              "IPY_MODEL_e08e18edce7c41e69caec11bc151812b"
            ],
            "layout": "IPY_MODEL_c68a871ac9e14cdda6f74d590a0414b1"
          }
        },
        "93f4dc5ee1f84eadacb83aa7b64753eb": {
          "model_module": "@jupyter-widgets/base",
          "model_module_version": "1.2.0",
          "model_name": "LayoutModel",
          "state": {
            "_model_module": "@jupyter-widgets/base",
            "_model_module_version": "1.2.0",
            "_model_name": "LayoutModel",
            "_view_count": null,
            "_view_module": "@jupyter-widgets/base",
            "_view_module_version": "1.2.0",
            "_view_name": "LayoutView",
            "align_content": null,
            "align_items": null,
            "align_self": null,
            "border": null,
            "bottom": null,
            "display": null,
            "flex": null,
            "flex_flow": null,
            "grid_area": null,
            "grid_auto_columns": null,
            "grid_auto_flow": null,
            "grid_auto_rows": null,
            "grid_column": null,
            "grid_gap": null,
            "grid_row": null,
            "grid_template_areas": null,
            "grid_template_columns": null,
            "grid_template_rows": null,
            "height": null,
            "justify_content": null,
            "justify_items": null,
            "left": null,
            "margin": null,
            "max_height": null,
            "max_width": null,
            "min_height": null,
            "min_width": null,
            "object_fit": null,
            "object_position": null,
            "order": null,
            "overflow": null,
            "overflow_x": null,
            "overflow_y": null,
            "padding": null,
            "right": null,
            "top": null,
            "visibility": null,
            "width": null
          }
        },
        "a6189b26594d4ef497ebb98578776abe": {
          "model_module": "@jupyter-widgets/controls",
          "model_module_version": "1.5.0",
          "model_name": "FloatProgressModel",
          "state": {
            "_dom_classes": [],
            "_model_module": "@jupyter-widgets/controls",
            "_model_module_version": "1.5.0",
            "_model_name": "FloatProgressModel",
            "_view_count": null,
            "_view_module": "@jupyter-widgets/controls",
            "_view_module_version": "1.5.0",
            "_view_name": "ProgressView",
            "bar_style": "success",
            "description": "",
            "description_tooltip": null,
            "layout": "IPY_MODEL_86b7f51a127a4ab2816d813c5ec6be39",
            "max": 200,
            "min": 0,
            "orientation": "horizontal",
            "style": "IPY_MODEL_c1adf09b681243f483c86ee05344a33d",
            "value": 200
          }
        },
        "c1adf09b681243f483c86ee05344a33d": {
          "model_module": "@jupyter-widgets/controls",
          "model_module_version": "1.5.0",
          "model_name": "ProgressStyleModel",
          "state": {
            "_model_module": "@jupyter-widgets/controls",
            "_model_module_version": "1.5.0",
            "_model_name": "ProgressStyleModel",
            "_view_count": null,
            "_view_module": "@jupyter-widgets/base",
            "_view_module_version": "1.2.0",
            "_view_name": "StyleView",
            "bar_color": null,
            "description_width": ""
          }
        },
        "c68a871ac9e14cdda6f74d590a0414b1": {
          "model_module": "@jupyter-widgets/base",
          "model_module_version": "1.2.0",
          "model_name": "LayoutModel",
          "state": {
            "_model_module": "@jupyter-widgets/base",
            "_model_module_version": "1.2.0",
            "_model_name": "LayoutModel",
            "_view_count": null,
            "_view_module": "@jupyter-widgets/base",
            "_view_module_version": "1.2.0",
            "_view_name": "LayoutView",
            "align_content": null,
            "align_items": null,
            "align_self": null,
            "border": null,
            "bottom": null,
            "display": null,
            "flex": null,
            "flex_flow": null,
            "grid_area": null,
            "grid_auto_columns": null,
            "grid_auto_flow": null,
            "grid_auto_rows": null,
            "grid_column": null,
            "grid_gap": null,
            "grid_row": null,
            "grid_template_areas": null,
            "grid_template_columns": null,
            "grid_template_rows": null,
            "height": null,
            "justify_content": null,
            "justify_items": null,
            "left": null,
            "margin": null,
            "max_height": null,
            "max_width": null,
            "min_height": null,
            "min_width": null,
            "object_fit": null,
            "object_position": null,
            "order": null,
            "overflow": null,
            "overflow_x": null,
            "overflow_y": null,
            "padding": null,
            "right": null,
            "top": null,
            "visibility": null,
            "width": null
          }
        },
        "d411c45bb64046f4be7fb4bc1f97aace": {
          "model_module": "@jupyter-widgets/controls",
          "model_module_version": "1.5.0",
          "model_name": "DescriptionStyleModel",
          "state": {
            "_model_module": "@jupyter-widgets/controls",
            "_model_module_version": "1.5.0",
            "_model_name": "DescriptionStyleModel",
            "_view_count": null,
            "_view_module": "@jupyter-widgets/base",
            "_view_module_version": "1.2.0",
            "_view_name": "StyleView",
            "description_width": ""
          }
        },
        "d627ae79cfac4fb5a8ad505c3a0bafe3": {
          "model_module": "@jupyter-widgets/controls",
          "model_module_version": "1.5.0",
          "model_name": "DescriptionStyleModel",
          "state": {
            "_model_module": "@jupyter-widgets/controls",
            "_model_module_version": "1.5.0",
            "_model_name": "DescriptionStyleModel",
            "_view_count": null,
            "_view_module": "@jupyter-widgets/base",
            "_view_module_version": "1.2.0",
            "_view_name": "StyleView",
            "description_width": ""
          }
        },
        "e08e18edce7c41e69caec11bc151812b": {
          "model_module": "@jupyter-widgets/controls",
          "model_module_version": "1.5.0",
          "model_name": "HTMLModel",
          "state": {
            "_dom_classes": [],
            "_model_module": "@jupyter-widgets/controls",
            "_model_module_version": "1.5.0",
            "_model_name": "HTMLModel",
            "_view_count": null,
            "_view_module": "@jupyter-widgets/controls",
            "_view_module_version": "1.5.0",
            "_view_name": "HTMLView",
            "description": "",
            "description_tooltip": null,
            "layout": "IPY_MODEL_675193334310408eacd3c86df8f46c33",
            "placeholder": "​",
            "style": "IPY_MODEL_d627ae79cfac4fb5a8ad505c3a0bafe3",
            "value": " 200/200 [00:47&lt;00:00,  4.18it/s]"
          }
        }
      }
    }
  },
  "nbformat": 4,
  "nbformat_minor": 0
}
